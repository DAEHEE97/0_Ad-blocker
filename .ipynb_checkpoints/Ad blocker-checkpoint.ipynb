{
 "cells": [
  {
   "cell_type": "markdown",
   "id": "c0a9c55c",
   "metadata": {},
   "source": [
    "# Coopang 광고 데이터 처리\n"
   ]
  },
  {
   "cell_type": "markdown",
   "id": "e8b020bd",
   "metadata": {},
   "source": [
    "## 함수화"
   ]
  },
  {
   "cell_type": "code",
   "execution_count": 1,
   "id": "9b5861e3",
   "metadata": {},
   "outputs": [],
   "source": [
    "from bs4 import BeautifulSoup\n",
    "from selenium import webdriver\n",
    "from selenium.webdriver.chrome.options import Options\n",
    "\n",
    "\n",
    "def ad_blocker_coopang(keyword):\n",
    "\n",
    "    options = Options()\n",
    "    browser = webdriver.Chrome(options=options)\n",
    "\n",
    "    base_url = \"https://www.coupang.com/np/search?component\"\n",
    "    search_term = keyword\n",
    "\n",
    "    browser.get(f\"{base_url}=&q={search_term}&channel=user\")\n",
    "\n",
    "    soup = BeautifulSoup(browser.page_source, \"html.parser\")\n",
    "\n",
    "    search_product_list = soup.find(\"ul\", class_=\"search-product-list\")\n",
    "\n",
    "    filtered_products = [ product for product in search_product_list.find_all('li', recursive=False) if 'search-product__ad-badge' not in product['class'] ]\n",
    "\n",
    "\n",
    "    results = []\n",
    "\n",
    "    for i in range(len(filtered_products)):\n",
    "\n",
    "        # brand_name, product_name\n",
    "        s = filtered_products[i].select_one('.name').string\n",
    "        split_result = s.split(' ', 1)  # 첫 번째 공백을 기준으로 문자열 분리\n",
    "        brand_name = split_result[0]\n",
    "        product_name = split_result[1]\n",
    "\n",
    "        # link\n",
    "        anchor = filtered_products[i].find('a')\n",
    "\n",
    "        product_data = {\n",
    "\n",
    "            'img_link' : 'https:'+filtered_products[i].select_one('.search-product-wrap-img')['src'],\n",
    "            'brand' : brand_name,\n",
    "            'name' : product_name.replace(\",\", \"\"),\n",
    "            'price': int(filtered_products[i].select_one('.price-value').string.replace(\",\", \"\")),\n",
    "            'link' : 'https://www.coupang.com/'+anchor['href']\n",
    "        }\n",
    "\n",
    "        results.append(product_data)\n",
    "    \n",
    "    return results"
   ]
  },
  {
   "cell_type": "markdown",
   "id": "8bc01ec3",
   "metadata": {},
   "source": [
    "---"
   ]
  },
  {
   "cell_type": "markdown",
   "id": "1b98b235",
   "metadata": {},
   "source": [
    "## csv 파일 처리"
   ]
  },
  {
   "cell_type": "code",
   "execution_count": 2,
   "id": "83d9e168",
   "metadata": {},
   "outputs": [
    {
     "name": "stdout",
     "output_type": "stream",
     "text": [
      "what do you want to search for? 썬크림\n"
     ]
    }
   ],
   "source": [
    "keyword = input('what do you want to search for? ')\n",
    "\n",
    "products = ad_blocker_coopang(keyword)\n",
    "\n",
    "# 입력 받은 키워드 이름으로 파일 오픈, 없으면 새로 생성\n",
    "file = open(f\"{keyword}.csv\", \"w\",encoding=\"utf-8-sig\")\n",
    "\n",
    "# 파일에 헤더 입력 , \\n\n",
    "file.write(\"Image,Brand,Name,Price,URL\\n\")\n",
    "\n",
    "for product in products:\n",
    "    file.write(f\"{product['img_link']},{product['brand']},{product['name']},{product['price']},{product['link']}\\n\")\n",
    "\n",
    "file.close()"
   ]
  },
  {
   "cell_type": "markdown",
   "id": "ff953735",
   "metadata": {},
   "source": [
    "---"
   ]
  },
  {
   "cell_type": "markdown",
   "id": "8a02eb95",
   "metadata": {},
   "source": [
    "## import 처리\n",
    "\n",
    "- main.py "
   ]
  },
  {
   "cell_type": "code",
   "execution_count": 3,
   "id": "af444324",
   "metadata": {},
   "outputs": [
    {
     "name": "stdout",
     "output_type": "stream",
     "text": [
      "what do you want to search for? 스프레이\n"
     ]
    }
   ],
   "source": [
    "from ad_blocker import ad_blocker_coopang\n",
    "\n",
    "keyword = input('what do you want to search for? ')\n",
    "\n",
    "products = ad_blocker_coopang(keyword)\n",
    "\n",
    "# 입력 받은 키워드 이름으로 파일 오픈, 없으면 새로 생성\n",
    "file = open(f\"{keyword}.csv\", \"w\",encoding=\"utf-8-sig\")\n",
    "\n",
    "# 파일에 헤더 입력 , \\n\n",
    "file.write(\"Image,Brand,Name,Price,URL\\n\")\n",
    "\n",
    "# jobs 리스트, job dict\n",
    "for product in products:\n",
    "    file.write(f\"{product['img_link']},{product['brand']},{product['name']},{product['price']},{product['link']}\\n\")\n",
    "\n",
    "file.close()\n"
   ]
  },
  {
   "cell_type": "markdown",
   "id": "dc3ec38f",
   "metadata": {},
   "source": [
    "---"
   ]
  },
  {
   "cell_type": "markdown",
   "id": "3f9134f3",
   "metadata": {},
   "source": [
    "# Flask"
   ]
  },
  {
   "cell_type": "code",
   "execution_count": null,
   "id": "d7eac87e",
   "metadata": {},
   "outputs": [],
   "source": [
    "from flask import Flask\n",
    "\n",
    "# Flask 클래스의 인스턴스를 만들고, \"Ad blocker\"라는 이름을 부여하여 app 변수에 할당합니다\n",
    "app = Flask(\"Ad blocker\")\n",
    "\n",
    "# 이 경로는 Flask 애플리케이션의 루트 경로입니다.\n",
    "# home() 함수를 '/' 경로로 연결합니다. \n",
    "\n",
    "@app.route(\"/\")\n",
    "def home():\n",
    "    return \"hello flask\"\n",
    "\n",
    "# 모든 IP 허용 0.0.0.0 로컬 뿐만 아니라 외부 호스트에서도 Flask 애플리케이션에 접근할 수 있습니다.\n",
    "app.run(host='0.0.0.0', port=8000)"
   ]
  },
  {
   "cell_type": "markdown",
   "id": "ed7d0263",
   "metadata": {},
   "source": [
    "## flask html return\n",
    "\n",
    "- templates 폴더\n",
    "- form \n"
   ]
  },
  {
   "cell_type": "markdown",
   "id": "1a024e59",
   "metadata": {},
   "source": [
    "<img src = \"form.png\">"
   ]
  },
  {
   "cell_type": "code",
   "execution_count": 8,
   "id": "b207ffd8",
   "metadata": {},
   "outputs": [
    {
     "name": "stdout",
     "output_type": "stream",
     "text": [
      " * Serving Flask app 'Ad blocker'\n",
      " * Debug mode: off\n"
     ]
    },
    {
     "name": "stderr",
     "output_type": "stream",
     "text": [
      "\u001b[31m\u001b[1mWARNING: This is a development server. Do not use it in a production deployment. Use a production WSGI server instead.\u001b[0m\n",
      " * Running on all addresses (0.0.0.0)\n",
      " * Running on http://127.0.0.1:8000\n",
      " * Running on http://192.168.45.143:8000\n",
      "\u001b[33mPress CTRL+C to quit\u001b[0m\n",
      "192.168.45.143 - - [06/Jun/2023 14:41:05] \"GET / HTTP/1.1\" 200 -\n",
      "192.168.45.143 - - [06/Jun/2023 14:41:05] \"\u001b[33mGET /apple-touch-icon-precomposed.png HTTP/1.1\u001b[0m\" 404 -\n",
      "192.168.45.143 - - [06/Jun/2023 14:41:05] \"\u001b[33mGET /apple-touch-icon.png HTTP/1.1\u001b[0m\" 404 -\n",
      "192.168.45.143 - - [06/Jun/2023 14:41:05] \"GET /search?keyword=썬크림 HTTP/1.1\" 200 -\n",
      "192.168.45.143 - - [06/Jun/2023 14:41:05] \"\u001b[33mGET /apple-touch-icon-precomposed.png HTTP/1.1\u001b[0m\" 404 -\n",
      "192.168.45.143 - - [06/Jun/2023 14:41:05] \"\u001b[33mGET /apple-touch-icon.png HTTP/1.1\u001b[0m\" 404 -\n",
      "192.168.45.143 - - [06/Jun/2023 14:41:05] \"\u001b[33mGET /favicon.ico HTTP/1.1\u001b[0m\" 404 -\n",
      "192.168.45.143 - - [06/Jun/2023 14:41:05] \"\u001b[33mGET /apple-touch-icon-precomposed.png HTTP/1.1\u001b[0m\" 404 -\n",
      "192.168.45.143 - - [06/Jun/2023 14:41:05] \"\u001b[33mGET /apple-touch-icon.png HTTP/1.1\u001b[0m\" 404 -\n",
      "192.168.45.143 - - [06/Jun/2023 14:41:05] \"\u001b[33mGET /favicon.ico HTTP/1.1\u001b[0m\" 404 -\n",
      "192.168.45.143 - - [06/Jun/2023 14:41:05] \"GET /search?keyword=썬크림 HTTP/1.1\" 200 -\n",
      "192.168.45.143 - - [06/Jun/2023 14:41:05] \"\u001b[33mGET /apple-touch-icon-precomposed.png HTTP/1.1\u001b[0m\" 404 -\n",
      "192.168.45.143 - - [06/Jun/2023 14:41:05] \"\u001b[33mGET /apple-touch-icon.png HTTP/1.1\u001b[0m\" 404 -\n",
      "192.168.45.143 - - [06/Jun/2023 14:41:05] \"\u001b[33mGET /favicon.ico HTTP/1.1\u001b[0m\" 404 -\n",
      "192.168.45.143 - - [06/Jun/2023 14:41:05] \"\u001b[33mGET /apple-touch-icon-precomposed.png HTTP/1.1\u001b[0m\" 404 -\n",
      "192.168.45.143 - - [06/Jun/2023 14:41:05] \"\u001b[33mGET /apple-touch-icon.png HTTP/1.1\u001b[0m\" 404 -\n",
      "192.168.45.143 - - [06/Jun/2023 14:41:05] \"\u001b[33mGET /favicon.ico HTTP/1.1\u001b[0m\" 404 -\n",
      "192.168.45.143 - - [06/Jun/2023 14:41:11] \"GET /search?keyword=썬크림 HTTP/1.1\" 200 -\n"
     ]
    }
   ],
   "source": [
    "from flask import Flask\n",
    "from flask import render_template\n",
    "\n",
    "\n",
    "# Flask 클래스의 인스턴스를 만들고, \"Ad blocke\"라는 이름을 부여하여 app 변수에 할당합니다\n",
    "app = Flask(\"Ad blocker\")\n",
    "\n",
    "# 이 경로는 Flask 애플리케이션의 루트 경로입니다.\n",
    "# home() 함수를 '/' 경로로 연결합니다. \n",
    "\n",
    "@app.route(\"/\")\n",
    "def home():\n",
    "    return render_template('home.html')\n",
    "\n",
    "\n",
    "# /search 루트 'http://192.168.45.143:8000/search?keyword=썬크림' \n",
    "\n",
    "@app.route('/search')\n",
    "def search():\n",
    "    return 'form action'\n",
    "\n",
    "# 모든 IP 허용 0.0.0.0 로컬 뿐만 아니라 외부 호스트에서도 Flask 애플리케이션에 접근할 수 있습니다.\n",
    "app.run(host='0.0.0.0', port=8000)"
   ]
  },
  {
   "cell_type": "markdown",
   "id": "7dc230a7",
   "metadata": {},
   "source": [
    "---"
   ]
  },
  {
   "cell_type": "markdown",
   "id": "06d23a11",
   "metadata": {},
   "source": [
    "## flask request\n",
    "\n",
    "- args"
   ]
  },
  {
   "cell_type": "code",
   "execution_count": 19,
   "id": "e78793f1",
   "metadata": {},
   "outputs": [
    {
     "name": "stdout",
     "output_type": "stream",
     "text": [
      " * Serving Flask app 'Ad blocker'\n",
      " * Debug mode: off\n"
     ]
    },
    {
     "name": "stderr",
     "output_type": "stream",
     "text": [
      "\u001b[31m\u001b[1mWARNING: This is a development server. Do not use it in a production deployment. Use a production WSGI server instead.\u001b[0m\n",
      " * Running on all addresses (0.0.0.0)\n",
      " * Running on http://127.0.0.1:8000\n",
      " * Running on http://172.30.1.5:8000\n",
      "\u001b[33mPress CTRL+C to quit\u001b[0m\n",
      "172.30.1.5 - - [07/Jun/2023 15:19:44] \"GET / HTTP/1.1\" 200 -\n",
      "172.30.1.5 - - [07/Jun/2023 15:19:51] \"GET /search?keyword=썬크림 HTTP/1.1\" 200 -\n",
      "172.30.1.5 - - [07/Jun/2023 15:29:36] \"GET /search?keyword=썬크림 HTTP/1.1\" 200 -\n"
     ]
    }
   ],
   "source": [
    "from flask import Flask\n",
    "from flask import render_template\n",
    "from flask import request\n",
    "\n",
    "from ad_blocker import ad_blocker_coopang\n",
    "\n",
    "\n",
    "# Flask 클래스의 인스턴스를 만들고, \"Ad blocke\"라는 이름을 부여하여 app 변수에 할당합니다\n",
    "app = Flask(\"Ad blocker\")\n",
    "\n",
    "# 이 경로는 Flask 애플리케이션의 루트 경로입니다.\n",
    "# home() 함수를 '/' 경로로 연결합니다. \n",
    "\n",
    "@app.route(\"/\")\n",
    "def home():\n",
    "    return render_template('home.html')\n",
    "\n",
    "\n",
    "# /search 루트 'http://192.168.45.143:8000/search?keyword=썬크림' \n",
    "\n",
    "@app.route('/search')\n",
    "def search():\n",
    "    \n",
    "    keyword = request.args.get('keyword')     # keyword = request.args['keyword']\n",
    "    \n",
    "    products = ad_blocker_coopang(keyword)\n",
    "    \n",
    "    return render_template('search.html',keyword = keyword, products=products)\n",
    "\n",
    "# 모든 IP 허용 0.0.0.0 로컬 뿐만 아니라 외부 호스트에서도 Flask 애플리케이션에 접근할 수 있습니다.\n",
    "app.run(host='0.0.0.0', port=8000)"
   ]
  },
  {
   "cell_type": "markdown",
   "id": "afc8f881",
   "metadata": {},
   "source": [
    "---"
   ]
  },
  {
   "cell_type": "markdown",
   "id": "82bc82b9",
   "metadata": {},
   "source": [
    "## 이미지 데이터 처리\n",
    "\n",
    "- 이미지 처리\n"
   ]
  },
  {
   "cell_type": "markdown",
   "id": "e72bc474",
   "metadata": {},
   "source": [
    "---"
   ]
  },
  {
   "cell_type": "markdown",
   "id": "9f0e3ffe",
   "metadata": {},
   "source": [
    "## CSS - pico\n",
    "\n",
    "- https://picocss.com/"
   ]
  },
  {
   "cell_type": "markdown",
   "id": "3d7be299",
   "metadata": {},
   "source": [
    "---"
   ]
  },
  {
   "cell_type": "markdown",
   "id": "feab94b6",
   "metadata": {},
   "source": [
    "## Cache\n",
    "\n",
    "- 웹 사이트 방문시 마다 함수 실행, 기존 새로고침 하면, request 반복 처리\n",
    "\n",
    "- fake db 생성하여, 새로고침시 db에서 데이터 처리"
   ]
  },
  {
   "cell_type": "code",
   "execution_count": 20,
   "id": "18971146",
   "metadata": {},
   "outputs": [
    {
     "name": "stdout",
     "output_type": "stream",
     "text": [
      " * Serving Flask app 'Ad blocker'\n",
      " * Debug mode: off\n"
     ]
    },
    {
     "name": "stderr",
     "output_type": "stream",
     "text": [
      "\u001b[31m\u001b[1mWARNING: This is a development server. Do not use it in a production deployment. Use a production WSGI server instead.\u001b[0m\n",
      " * Running on all addresses (0.0.0.0)\n",
      " * Running on http://127.0.0.1:8000\n",
      " * Running on http://172.30.1.5:8000\n",
      "\u001b[33mPress CTRL+C to quit\u001b[0m\n",
      "172.30.1.5 - - [07/Jun/2023 15:34:19] \"GET / HTTP/1.1\" 200 -\n",
      "172.30.1.5 - - [07/Jun/2023 15:34:27] \"GET /search?keyword=썬크림 HTTP/1.1\" 200 -\n",
      "172.30.1.5 - - [07/Jun/2023 15:34:30] \"GET /search?keyword=썬크림 HTTP/1.1\" 200 -\n",
      "172.30.1.5 - - [07/Jun/2023 15:34:33] \"GET /search?keyword=썬크림 HTTP/1.1\" 200 -\n",
      "172.30.1.5 - - [07/Jun/2023 15:35:09] \"GET /search?keyword=썬크림 HTTP/1.1\" 200 -\n",
      "172.30.1.5 - - [07/Jun/2023 15:35:15] \"GET / HTTP/1.1\" 200 -\n",
      "172.30.1.5 - - [07/Jun/2023 15:35:27] \"GET /search?keyword=로션 HTTP/1.1\" 200 -\n",
      "172.30.1.5 - - [07/Jun/2023 15:35:32] \"GET / HTTP/1.1\" 200 -\n",
      "172.30.1.5 - - [07/Jun/2023 15:35:42] \"GET /search?keyword=토너 HTTP/1.1\" 200 -\n"
     ]
    }
   ],
   "source": [
    "from flask import Flask\n",
    "from flask import render_template\n",
    "from flask import request\n",
    "\n",
    "from ad_blocker import ad_blocker_coopang\n",
    "\n",
    "\n",
    "# Flask 클래스의 인스턴스를 만들고, \"Ad blocke\"라는 이름을 부여하여 app 변수에 할당합니다\n",
    "app = Flask(\"Ad blocker\")\n",
    "\n",
    "\n",
    "\n",
    "# 서버가 켜져 있는 상태에서만 작동하는 fake db - 새로고침 > db에서 데이터 처리\n",
    "db = {}\n",
    "\n",
    "\n",
    "# 이 경로는 Flask 애플리케이션의 루트 경로입니다.\n",
    "# home() 함수를 '/' 경로로 연결합니다. \n",
    "\n",
    "@app.route(\"/\")\n",
    "def home():\n",
    "    return render_template('home.html')\n",
    "\n",
    "\n",
    "# /search 루트 'http://192.168.45.143:8000/search?keyword=썬크림' \n",
    "\n",
    "@app.route('/search')\n",
    "def search():\n",
    "    \n",
    "    keyword = request.args.get('keyword')     # keyword = request.args['keyword']\n",
    "    \n",
    "    # db 처리\n",
    "    if keyword in db:\n",
    "        products = db[keyword]\n",
    "    else:\n",
    "        products = ad_blocker_coopang(keyword)\n",
    "        db[keyword] = products\n",
    "    \n",
    "    \n",
    "    return render_template('search.html',keyword = keyword, products=products)\n",
    "\n",
    "# 모든 IP 허용 0.0.0.0 로컬 뿐만 아니라 외부 호스트에서도 Flask 애플리케이션에 접근할 수 있습니다.\n",
    "app.run(host='0.0.0.0', port=8000)"
   ]
  },
  {
   "cell_type": "markdown",
   "id": "1c355ed0",
   "metadata": {},
   "source": [
    "---"
   ]
  },
  {
   "cell_type": "markdown",
   "id": "6dbd9109",
   "metadata": {},
   "source": [
    "## redirct\n",
    "\n",
    " \n",
    "- 사용자가 172.30.1.43:8000/search 로 접속 시, , 500 Internal Server Error\n",
    "    - 이때,백엔드(main.py)에서는 keyword = none 으로 처리\n",
    "    - if None, redirect\n",
    " \n",
    "    \n",
    "- 사용자가 아무것도 입력 하지 않고, http://172.30.1.43:8000/search?keyword=  페이지 이동 시 , 500 Internal Server Error\n",
    "    - 이때,백엔드(main.py)에서는 keyword = \"\" 으로 처리\n",
    "    - if \"\", redirect\n",
    "    \n"
   ]
  },
  {
   "cell_type": "markdown",
   "id": "c3d5c621",
   "metadata": {},
   "source": [
    "---"
   ]
  },
  {
   "cell_type": "markdown",
   "id": "e4547f69",
   "metadata": {},
   "source": [
    "## 파일로 내보내기\n",
    "\n",
    "- search 페이지에서 jobs를 db에 저장하기 때문에, search 페이지를 먼저 방문해야됨 "
   ]
  },
  {
   "cell_type": "markdown",
   "id": "fa0241c6",
   "metadata": {},
   "source": [
    "---"
   ]
  },
  {
   "cell_type": "code",
   "execution_count": 22,
   "id": "6d5f1088",
   "metadata": {},
   "outputs": [
    {
     "name": "stdout",
     "output_type": "stream",
     "text": [
      " * Serving Flask app 'Ad blocker'\n",
      " * Debug mode: off\n"
     ]
    },
    {
     "name": "stderr",
     "output_type": "stream",
     "text": [
      "\u001b[31m\u001b[1mWARNING: This is a development server. Do not use it in a production deployment. Use a production WSGI server instead.\u001b[0m\n",
      " * Running on all addresses (0.0.0.0)\n",
      " * Running on http://127.0.0.1:8000\n",
      " * Running on http://172.30.1.5:8000\n",
      "\u001b[33mPress CTRL+C to quit\u001b[0m\n",
      "172.30.1.5 - - [07/Jun/2023 15:45:11] \"GET / HTTP/1.1\" 200 -\n",
      "172.30.1.5 - - [07/Jun/2023 15:45:19] \"GET /search?keyword=썬크림 HTTP/1.1\" 200 -\n",
      "172.30.1.5 - - [07/Jun/2023 15:45:22] \"GET /export?keyword=썬크림 HTTP/1.1\" 200 -\n"
     ]
    }
   ],
   "source": [
    "from flask import Flask\n",
    "from flask import render_template\n",
    "from flask import request\n",
    "from flask import redirect\n",
    "from flask import send_file\n",
    "\n",
    "from file import save_to_file\n",
    "from ad_blocker import ad_blocker_coopang\n",
    "\n",
    "\n",
    "# Flask 클래스의 인스턴스를 만들고, \"Ad blocke\"라는 이름을 부여하여 app 변수에 할당합니다\n",
    "app = Flask(\"Ad blocker\")\n",
    "\n",
    "# 서버가 켜져 있는 상태에서만 작동하는 fake db - 새로고침 > db에서 데이터 처리\n",
    "db = {}\n",
    "\n",
    "# 이 경로는 Flask 애플리케이션의 루트 경로입니다. home() 함수를 '/' 경로로 연결합니다. \n",
    "\n",
    "@app.route(\"/\")\n",
    "def home():\n",
    "    return render_template('home.html')\n",
    "\n",
    "\n",
    "# /search 루트 'http://192.168.45.143:8000/search?keyword=썬크림' \n",
    "\n",
    "@app.route('/search')\n",
    "def search():\n",
    "    \n",
    "    keyword = request.args.get('keyword')     # keyword = request.args['keyword']\n",
    "    \n",
    "    \n",
    "    if keyword == None:\n",
    "        return redirect(\"/\")\n",
    "\n",
    "    if keyword == \"\":\n",
    "        return redirect(\"/\")\n",
    "         \n",
    "        \n",
    "    # db 처리\n",
    "    if keyword in db:\n",
    "        products = db[keyword]\n",
    "    else:\n",
    "        products = ad_blocker_coopang(keyword)\n",
    "        db[keyword] = products\n",
    "    \n",
    "    \n",
    "    return render_template('search.html',keyword = keyword, products=products)\n",
    "\n",
    "@app.route('/export')\n",
    "def export():\n",
    "    keyword = request.args.get('keyword') \n",
    "    \n",
    "    if keyword == None:\n",
    "        return redirect(\"/\")\n",
    "    \n",
    "    if keyword == \"\":\n",
    "         return redirect(\"/\") \n",
    "    \n",
    "    if keyword not in db:\n",
    "        return redirect(f\"/search?keyword={keyword}\")\n",
    "\n",
    "    # 시스템에서 파일 저장 \n",
    "    save_to_file(keyword,db[keyword])\n",
    "    \n",
    "    # 다운로드 바로 실행\n",
    "    return send_file(f\"{keyword}.csv\", as_attachment=True)\n",
    "\n",
    "# 모든 IP 허용 0.0.0.0 로컬 뿐만 아니라 외부 호스트에서도 Flask 애플리케이션에 접근할 수 있습니다.\n",
    "app.run(host='0.0.0.0', port=8000)"
   ]
  }
 ],
 "metadata": {
  "kernelspec": {
   "display_name": "Python 3 (ipykernel)",
   "language": "python",
   "name": "python3"
  },
  "language_info": {
   "codemirror_mode": {
    "name": "ipython",
    "version": 3
   },
   "file_extension": ".py",
   "mimetype": "text/x-python",
   "name": "python",
   "nbconvert_exporter": "python",
   "pygments_lexer": "ipython3",
   "version": "3.8.16"
  },
  "toc": {
   "base_numbering": 1,
   "nav_menu": {},
   "number_sections": true,
   "sideBar": true,
   "skip_h1_title": false,
   "title_cell": "Table of Contents",
   "title_sidebar": "Contents",
   "toc_cell": false,
   "toc_position": {},
   "toc_section_display": true,
   "toc_window_display": false
  },
  "varInspector": {
   "cols": {
    "lenName": 16,
    "lenType": 16,
    "lenVar": 40
   },
   "kernels_config": {
    "python": {
     "delete_cmd_postfix": "",
     "delete_cmd_prefix": "del ",
     "library": "var_list.py",
     "varRefreshCmd": "print(var_dic_list())"
    },
    "r": {
     "delete_cmd_postfix": ") ",
     "delete_cmd_prefix": "rm(",
     "library": "var_list.r",
     "varRefreshCmd": "cat(var_dic_list()) "
    }
   },
   "types_to_exclude": [
    "module",
    "function",
    "builtin_function_or_method",
    "instance",
    "_Feature"
   ],
   "window_display": false
  }
 },
 "nbformat": 4,
 "nbformat_minor": 5
}
